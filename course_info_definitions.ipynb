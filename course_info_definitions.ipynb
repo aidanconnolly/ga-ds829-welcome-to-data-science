{
 "cells": [
  {
   "cell_type": "markdown",
   "metadata": {
    "slideshow": {
     "slide_type": "notes"
    }
   },
   "source": [
    "> **Jupyter slideshow:** This notebook can be displayed as slides. To view it as a slideshow in your browser, type following in the console:\n",
    " \n",
    " \n",
    "> `> jupyter nbconvert [this_notebook.ipynb] --to slides --post serve`\n",
    " \n",
    " \n",
    "> To toggle off the slideshow cell formatting, click the `CellToolbar` button, then `View > Cell Toolbar > None`.\n",
    "\n",
    "For more help, check out [this tutorial](https://drive.google.com/open?id=17q01buf7YFuB4yF8cFjmnc_ZARQWOljGhlHs99i9X0c)."
   ]
  },
  {
   "cell_type": "markdown",
   "metadata": {
    "slideshow": {
     "slide_type": "slide"
    }
   },
   "source": [
    "<img src=\"http://imgur.com/1ZcRyrc.png\" style=\"float: left; margin: 20px; height: 55px\">\n",
    " \n",
    "# What is Data Science?\n",
    " \n",
    "_Authors: Alexander Egorenkov (DC), Amy Roberts (NYC)_\n",
    " \n",
    "---\n"
   ]
  },
  {
   "cell_type": "markdown",
   "metadata": {
    "slideshow": {
     "slide_type": "slide"
    }
   },
   "source": [
    "<a id=\"learning-objectives\"></a>\n",
    "### Learning Objectives\n",
    "*After this lesson, you will be able to:*\n",
    "\n",
    "- Describe the roles and components of a successful development environment.\n",
    "- Define data science and the data science workflow.\n",
    "- Apply the data science workflow to solve a task.\n",
    "- Discuss common data science terminology and processes."
   ]
  },
  {
   "cell_type": "markdown",
   "metadata": {},
   "source": [
    "### Lesson Guide\n",
    "- [Activity: Data Science in the Real World (5 mins)](#ds-real-world)\n",
    "- [Course & Project Structure (5 mins)](#course-info)\n",
    "- [How to Ask a Question (10 mins)](#question)\n",
    "- [Data Science Workflow through Ames Data (20 mins)](#dsfw)\n",
    "- [Summary (5 mins)](#summary1)\n",
    "- [Common ML Definitions (15 mins)](#common-ml-defs)\n",
    "- [Activity - Quiz or group (15 mins)](#ml-activity)\n",
    "- [Summary (5 mins)](#summary2)"
   ]
  },
  {
   "cell_type": "markdown",
   "metadata": {
    "slideshow": {
     "slide_type": "slide"
    }
   },
   "source": [
    "<a id=\"ds-real-world\"> </a>\n",
    "# Activity: Data Science in the Real World\n",
    "\n",
    "- List 5 products or services that you believe have utilized data science.\n",
    "- **Examples**\n",
    "    - Providing movie recommendations on Netflix.\n",
    "    - Making product suggestions on Amazon.\n",
    "    - Offering election and sports coverage on the stats site FiveThirtyEight.\n",
    "    - Calculating daily bet predictions on the fantasy sports site DraftKings.\n",
    "    - Returning auto translate and search results on Google."
   ]
  },
  {
   "cell_type": "markdown",
   "metadata": {
    "slideshow": {
     "slide_type": "slide"
    }
   },
   "source": [
    "<a id=\"course-info\"> </a>\n",
    "# Course Information\n",
    "    \n",
    "### GA offers a special learning environment.\n",
    "\n",
    "- Meet your instructors, instructional assistants, course producers.\n",
    "- GA is a global community of individuals empowered to pursue the work we love.\n",
    "- Resources — discounts, community events, office hours.\n",
    "- Giving feedback — exit tickets, mid-course feedback, final feedback."
   ]
  },
  {
   "cell_type": "markdown",
   "metadata": {
    "slideshow": {
     "slide_type": "slide"
    }
   },
   "source": [
    "### Road to Success\n",
    "\n",
    "- Emotional cycle of change\n",
    "- Student learning responsibility\n",
    "- GA graduation requirements\n",
    "- After GA — build network, find opportunities, community, perks\n",
    "- Q/A\n"
   ]
  },
  {
   "cell_type": "markdown",
   "metadata": {
    "slideshow": {
     "slide_type": "slide"
    }
   },
   "source": [
    "### Course Outline and Project Due Dates\n",
    "\n",
    "> **Note to Instructors**: Switch to your `course-info` repository or update course information here, for example:\n",
    "\n",
    "\n",
    "General Assembly's Data Science part time materials are organized into **four** units.\n",
    "\n",
    "| Unit   | Title  | Topics Covered  | Length | \n",
    "| ---    | ---    |  ---     | ---    |\n",
    "| Unit 1 | Foundations       | Python Syntax, Development Environment | Lessons 1-4 |\n",
    "| Unit 2 | Working with Data | Stats Review, Visualization, & EDA     | Lessons 5-9  | \n",
    "| Unit 3 | Data Modeling     | Regression, Classification, & KNN      | Lessons 10-14  | \n",
    "| Unit 4 | Applications      | Decision Trees, NLP, & Flex Topics     | Lessons 15-19  | "
   ]
  },
  {
   "cell_type": "markdown",
   "metadata": {},
   "source": [
    "<a id=\"question\"> </a>\n",
    "# How to Ask Good Questions\n",
    "\n",
    "### How Do Data Scientists Solve Problems?\n",
    "\n",
    "How do data scientists solve problems? Most practitioners apply a version of the scientific method in order to logically deconstruct and analyze an issue. At General Assembly, we call this the data science workflow, which we've broken down into a series of steps.\n",
    "\n",
    "This problem-solving framework will help you produce results that are reliable (so your findings will be more accurate) and reproducible (so others can follow your steps and achieve the same results).\n",
    "\n",
    "Note that, depending on the problem, this process is not always linear. You may require lots of iteration and repetition before any conclusions can be made!"
   ]
  },
  {
   "cell_type": "markdown",
   "metadata": {},
   "source": [
    "<a id=\"good_q\"></a>\n",
    "### Asking a Good Question\n",
    "\n",
    "Even though all data science projects have different general flows, they all start in the same place: with a problem.  From this problem statement arises questions; questions we will ask the data in order to gain more information so we can attempt to find a solution to that problem.\n",
    "\n",
    "**Why do we need a good question?**\n",
    "\n",
    "_“A problem well stated is half solved.”_ — Charles Kettering\n",
    "\n",
    "A good question: \n",
    "\n",
    "- Sets you up for success as you begin analysis.\n",
    "- Establishes the basis for reproducibility.\n",
    "- Enables collaboration through clear goals.\n",
    "    - It's hard to collaborate without a vision."
   ]
  },
  {
   "cell_type": "markdown",
   "metadata": {},
   "source": [
    "One way to approach formulating a question is through goal-setting via the SMART Goals Framework.\n",
    "\n",
    "- **Specific**: The data set and key variables are clearly defined.\n",
    "- **Measurable**: The type of analysis and major assumptions are articulated.\n",
    "- **Attainable**: The question you are asking is feasible for your data set and is not likely to be biased.\n",
    "- **Reproducible**: Another person (or future you) can read and understand exactly how your analysis is performed.\n",
    "- **Time-bound**: You clearly state the time period and population to which this analysis pertains.\n",
    "\n",
    "#### Check for Understanding\n",
    "\n",
    "- Can you make a goal for this class with a partner? Use the SMART Goals Framework to make sure that it is Specific, Measurable, Attaainable, Reproducible, and Time-bound."
   ]
  },
  {
   "cell_type": "markdown",
   "metadata": {},
   "source": [
    "#### What Are Some Common Questions Asked in Data Science?\n",
    "\n",
    "**Machine learning more or less asks the following questions:**\n",
    "\n",
    "- Does X predict Y? (Where X is a set of data and y is an outcome.)\n",
    "- Are there any distinct groups in our data?\n",
    "- What are the key components of our data?\n",
    "- Is one of our observations “weird”?\n",
    "\n",
    "**From a business perspective, we can ask:**\n",
    "\n",
    "- What is the likelihood that a customer will buy this product?\n",
    "- Is this a good or bad review?\n",
    "- How much demand will there be for my service tomorrow?\n",
    "- Is this the cheapest way to deliver my goods?\n",
    "- Is there a better way to segment my marketing strategies?\n",
    "- What groups of products are customers purchasing together?\n",
    "- Can we automate this simple yes/no decision?\n",
    "\n",
    "_This list may seem limited, but we rewrite most questions to fit this form._"
   ]
  },
  {
   "cell_type": "markdown",
   "metadata": {
    "slideshow": {
     "slide_type": "slide"
    }
   },
   "source": [
    "<a id=\"dswf\"></a>\n",
    "## Introduction: The Data Science Workflow\n",
    "\n",
    "---\n",
    "\n",
    "> **Note for instructors**: Budget about 5 minutes to walkthrough the workflow in general (Frame, Prepare, Analyze, Interpret, Communicate) and use the remaining 15 minutes to use the Ames data as a case study on how it is used in the real world)\n",
    "\n",
    "Throughout the course and for our projects we will be following a general workflow. This workflow will help you produce *reliable* and *reproducible* results.\n",
    "\n",
    "- **Reliable**: Accurate findings.\n",
    "- **Reproducible**: Others can follow your steps and achieve the same results.\n",
    "\n",
    "### Steps in the Data Science Workflow\n",
    "\n",
    "- **Frame**: Develop a hypothesis-driven approach to your analysis.\n",
    "- **Prepare**: Select, import, explore, and clean your data.\n",
    "- **Analyze**: Structure, visualize, and complete your analysis.\n",
    "- **Interpret**: Derive recommendations and business decisions from your data.\n",
    "- **Communicate**: Present (edited) insights from your data to different audiences.\n",
    "\n",
    "![](./assets/Data-Framework-White-BG.png)"
   ]
  },
  {
   "cell_type": "markdown",
   "metadata": {},
   "source": [
    "#### Notes on the Data Science Workflow\n",
    "\n",
    "_These are not hard-set rules that must be followed; use them as guidelines._\n",
    "\n",
    "\n",
    "- The process is cyclical, so repetition of steps is completely natural.\n",
    "- Not all steps will be necessary in every project."
   ]
  },
  {
   "cell_type": "markdown",
   "metadata": {},
   "source": [
    "# Application: Data Science Workflow through Ames Data"
   ]
  },
  {
   "cell_type": "markdown",
   "metadata": {},
   "source": [
    "## FRAME\n",
    "\n",
    "---\n",
    "\n",
    "- Identify the business/product objectives.\n",
    "- Identify and hypothesize goals and criteria for success.\n",
    "- Create a set of questions to help you identify the correct data set.\n",
    "\n",
    "We work for a real estate company interested in using data science to determine the best properties to buy and re-sell. Specifically, your company would like to identify the characteristics of residential houses that estimate the sale price and the cost-effectiveness of doing renovations.\n",
    "\n",
    "#### Identify the business/product objectives.\n",
    "The customer tells us the business goals are to accurately predict prices for houses (so that they can sell them for as large a profit as possible) and to identify which kinds of features in the housing market would be more likely to lead to foreclosure and other abnormal sales (which could represent more profitable sales for the company).\n",
    "\n",
    "#### Identify and hypothesize goals and criteria for success.\n",
    "Ultimately, the customer wants us to:\n",
    "* Deliver a presentation to the real estate team.\n",
    "* Write a business report discussing results, procedures used, and rationales.\n",
    "* Build an API that provides estimated returns.\n",
    "\n",
    "#### Create a set of questions to help you identify the correct data set.\n",
    "\n",
    "* Can you think of questions that would help this customer deliver on their business goals? \n",
    "* What sort of features or columns would you want to see in the data?\n",
    "\n",
    "> **Note to Instructor:** Use this check for understanding to guide them to:\n",
    "> * \"fixed\" characteristics, such as neighborhood, lot size, number of stories, etc.\n",
    "> * sale prices over time \n",
    "> * optimizing for the difference between purchase price and sale price (bigger values are better)"
   ]
  },
  {
   "cell_type": "markdown",
   "metadata": {
    "slideshow": {
     "slide_type": "slide"
    }
   },
   "source": [
    "**Ideal Data vs. Data That is Available**  \n",
    "\n",
    "Oftentimes we'll start by identifying the *ideal data* we would want for a project.\n",
    "\n",
    "Then, during the data acquisition phase, we'll learn about the limitations on the types of data actually available. We have to decide if these limitations will inhibit our ability to answer our question of interest or if we can work with what we have to find a reasonable and reliable answer.\n",
    "\n",
    "For example, we provide a set of housing data for Ames, IA, which [includes](./extra-materials/ames_data_documentation.txt):\n",
    "\n",
    "- 20 continuous variables indicating square footage.\n",
    "- 14 discrete variables indicating number of each room type.\n",
    "- 46 categorical variables containing 2-28 classes each, e.g. street type (gravel/paved) and neighborhood (city district name)\n",
    "\n",
    "---\n",
    "\n",
    "#### **Optional Check**\n",
    "\n",
    "Take a moment to look through the data description. How closely does it match the ideal data that you envisoned? Would it be sufficient for our purposes? What limitations does it have?\n",
    "\n",
    "---\n",
    "\n",
    "This is possibly the hardest step in the data science workflow. At this stage, it is common to realize that the problem you are trying to solve may not be solvable with the information available. The data could be incomplete, non-existant, or unable to meet the criteria necessary to answer your question.  \n",
    "\n",
    "That said, you now have a better feel for the data available and the information they could contain. You can identify a new, answerable question that ultimately helps you solve or better understand your problem."
   ]
  },
  {
   "cell_type": "markdown",
   "metadata": {
    "slideshow": {
     "slide_type": "slide"
    }
   },
   "source": [
    "### ACQUIRE\n",
    "\n",
    "---\n",
    "\n",
    "- **What are some questions we should ask at the acquisition process?**\n",
    "\n",
    "> **Instructor Note: Guide students towards the following**\n",
    "> - Where is the data coming from?\n",
    "> - How does the data fit together?\n",
    "\n",
    "- Our Ames dataset contains the following information:\n",
    "    - [Ames Data set Introduction PDF](./extra-materials/ames.pdf) (from the \"Journal of Statistics Education\")\n",
    "    - \"Data set contains information from the Ames Assessor’s Office used in computing assessed values for individual residential properties sold in Ames, IA from 2006 to 2010.\"\n",
    "\n",
    "### PARSE\n",
    "\n",
    "---\n",
    "\n",
    "- **What are some questions we should ask when checking the data for quality?**\n",
    "  - [Ames data set documentation](./extra-materials/ames_data_documentation.txt)\n",
    "\n",
    ">**Note to Instructor: Guide students to the following:**\n",
    "- Is there enough data?\n",
    "- Does our data appropriately align with the question/problem statement?\n",
    "- Can the data set be trusted? How was it collected?\n",
    "- Is this data set aggregated? Can we use the aggregation, or do we need to obtain it pre-aggregation?\n",
    "- What are necessary resources, requirements, assumptions, and constraints?\n",
    "- Can we import data from the web (Google Analytics, HTML, XML)?\n",
    "- Can we import data from a file (CSV, XML, TXT, JSON)?\n",
    "- Can we import data from a preexisting database (SQL)?\n",
    "- Can we set up local or remote data structures?\n",
    "- What are the most appropriate tools for working with the data?\n",
    "- Do these tools align with the format and size of the data set?"
   ]
  },
  {
   "cell_type": "markdown",
   "metadata": {},
   "source": [
    "##  PREPARE\n",
    "\n",
    "---\n",
    "\n",
    "Often, we are given *secondary data*, or data that was collected previously. In these cases, we have to learn as much as possible about our data using tools like data dictionaries and source documentation to determine how the set was gathered.\n",
    "\n",
    "Here's an example of a data dictionary:\n",
    "\n",
    "Variable | Description | Type of Variable\n",
    "---| ---| ---\n",
    "Square Footage | Floating point | Continuous\n",
    "Street Type | 1- Gravel, 2- Paved | Categorical\n",
    "Neighborhood | String, e.g. 'Tenderloin' | Categorical\n",
    "Number of Bedrooms | Integer | Discrete\n",
    "\n",
    "**Common steps for analysis include:**  \n",
    "\n",
    "- **What are some things we should do when analyzing our data?**\n",
    "\n",
    ">**Note to Instructors: Guide students toward the following**\n",
    "- Reading any documentation provided with the data (e.g., the data dictionary above).\n",
    "- Performing exploratory surface analysis via filtering, sorting, and simple visualizations.\n",
    "- Describing the data structure and the information being collected.\n",
    "- Exploring variables and data types via SELECT statements.\n",
    "- Assessing preliminary outliers and trends.\n",
    "- Verifying the quality of the data (feedback loop -> 1).\n",
    "\n",
    "**Common steps for cleaning include**:\n",
    "\n",
    "- **Does our data come perfectly clean and ready to use? What should we do if it does not?**\n",
    "\n",
    ">**Note to Instructors: Guide students toward the following**\n",
    "- Sampling the data and determining sampling methodology.\n",
    "- Iterating and exploring outliers and null values via SELECT statements.\n",
    "- Assessing qualitative versus quantitative data.\n",
    "- Formatting and cleaning data in Python (e.g., dates, number signs, formatting).\n",
    "- Defining how to appropriately address missing values (cleaning).\n",
    "- Categorizing, manipulating, slicing, formating, and integrating data.\n",
    "- Formating and combining different data points, separate columns, etc.\n",
    "- Determining most appropriate methods for aggregating, cleaning, etc.\n",
    "- Creating the necessary derived columns from the data (new data).\n",
    "\n",
    "\n",
    "\n",
    "---\n",
    "\n",
    "**As you can see, the \"Prepare\" phase of the data science workflow encompasses several steps. The act of identifying, aquiring, and especially cleaning your data will consume a great deal of time (60%–70%), no matter your position in the data field.**"
   ]
  },
  {
   "cell_type": "markdown",
   "metadata": {
    "slideshow": {
     "slide_type": "slide"
    }
   },
   "source": [
    "## ANALYZE\n",
    "\n",
    "---\n",
    "\n",
    "As an example of basic statistics, Data Scientists often check the mean, standard deviation, or specific frequency counts of your data. Statistics that we might expect for the earlier housing variables follow:\n",
    "\n",
    "Variable | Mean or Frequency %\n",
    "---| ---\n",
    "Square Footage | 2201.3\n",
    "Street Type - Gravel | 8%\n",
    "Street Type - Paved | 92%\n",
    "Number of Bedrooms | 1.8\n",
    "\n",
    "**What sorts of questions do these types of statistics allow us to do? Why would we do this?**\n",
    "\n",
    ">**Note to Instructor: Guide students toward the following**\n",
    "- Identify trends and outliers.\n",
    "- Decide how to deal with outliers — excluding, filtering, and communication.\n",
    "- Apply descriptive and inferential statistics.\n",
    "- Determine initial visualization techniques.\n",
    "- Document and capture knowledge.\n",
    "- Choose visualization techniques for different data types.\n",
    "- Transform data.\n",
    "\n",
    "### Creating a Predictive Model \n",
    "\n",
    "We generate predictive models based on the SMART goal that we decided earlier. Typically our interest is in predicting or guessing some sort of value that we might be interested in (such as the housing price for a house given some set of fixed characteristics). \n",
    "\n",
    "**What are some other business goals we can support as Data Scientists for this realty company? What are some values that we would like to guess?*\n",
    "\n",
    "**What do you think the steps for model building are?**\n",
    "\n",
    ">**Note to Instructors: Guide students towards the following:**\n",
    "- Selecting the appropriate model.\n",
    "- Building the model.\n",
    "- Evaluating and refining the model.\n",
    "- Predicting outcomes and action items.\n",
    "\n",
    "_We'll be spending much of our time in this course on data analysis and predictive modeling._"
   ]
  },
  {
   "cell_type": "markdown",
   "metadata": {
    "slideshow": {
     "slide_type": "slide"
    }
   },
   "source": [
    "## INTERPRET\n",
    "\n",
    "---\n",
    "\n",
    "### Develop Recommendations and Decisions\n",
    "\n",
    "**Now that you have a model, what are some things you should check?**\n",
    "\n",
    ">**Note to Instructors: Guide students towards the following**\n",
    "- Did you reject or fail to reject your hypotheses?\n",
    "    - What does this mean for your project?\n",
    "    - What does this mean for your client?\n",
    "- Were your questions answered?\n",
    "    - Which ones?\n",
    "    - What do you need to do to answers the ones that weren't answered?\n",
    "- Do your findings support any business recommendations, actions, or decisions?\n",
    "    - Is there further supportive analysis?\n",
    "    - How does your data support these recommendations?\n",
    "    \n",
    "**Now that you have a model, can you convert your model's finding into a conclusion or next step for your employer?**\n",
    "\n",
    ">**Note to Instructors: Guide students towards the following**\n",
    "- Reaching a conclusion:\n",
    "    - Seek guidance / interaction with subject matter experts (SMEs)\n",
    "    - If those are not available, check with the data -- are you coming to reasonable conclusions and predictions given what you've seen?\n",
    "    - Do the next steps that you envision have any knock-on effects?\n",
    "- What are some conclusions that you can come to?\n",
    "    - Conclusion: \"Customers from large companies were twice as likely to place another order with Planet Express than customers from small companies.\"\n",
    "    - Recommendation:  \"We should target more large companies to use our delivery service.\"\n",
    "    - Conclusion: \"Other than size of company, I found no significant evidence that any other feature affected the odds of customers reusing our delivery service.\""
   ]
  },
  {
   "cell_type": "markdown",
   "metadata": {
    "slideshow": {
     "slide_type": "slide"
    }
   },
   "source": [
    "## COMMUNICATE\n",
    "\n",
    "---\n",
    "\n",
    "#### Share the Results of Your Analysis  \n",
    "\n",
    "Presentations are a critical part of your analysis. It doesn't matter how brilliant your model is or how illuminating your findings are; without effective communication, your work will not be used.\n",
    "\n",
    "The most basic form of a data science presentation should include a simple sentence that describes your results:\n",
    "\n",
    "_\"Customers from large companies had twice (CI 1.9, 2.1) the odds for placing another order with Planet Express compared to customers from small companies.\"_\n",
    "\n",
    "Data science presentations can also be far more complex and exciting, like some of the [research presented by Nate Silver's FiveThirtyEight blog](http://fivethirtyeight.com/burrito/#brackets-view).\n",
    "\n",
    "When crafting a presentation, always consider your audience and make sure to practice your presentation beforehand. Consider the types of questions people might ask or — better yet — test your presentation on a few people and pay attention to their response. Clarify and refine your presentation accordingly.\n",
    "\n",
    "Make sure to consider your needs and goals as well as those of your audience. A presentation created for your fellow data scientists will be vastly different than a presentation intended for executives trying to make a business decision."
   ]
  },
  {
   "cell_type": "markdown",
   "metadata": {
    "slideshow": {
     "slide_type": "slide"
    }
   },
   "source": [
    "**A Note About Iteration**\n",
    "\n",
    "Iteration is an important part of *every step* in the data science workflow. At any given point in the process, you may find yourself repeating or going back and redoing steps in order to better understand your data, clarify your model, and refine your presentation.\n",
    "\n",
    "**What are some things that you may want to redo or iterate over after presenting your findings?**\n",
    "\n",
    ">**Note to Instructors: Guide students to the following**\n",
    "- Identify follow-up problems and questions for future analysis.\n",
    "- Create a visually effective summary or report.\n",
    "- Add more features.\n",
    "- Consider the needs of different stakeholders and how your report might be changed for them.\n",
    "- Identify the limitations of your analysis.\n",
    "- Identify relationships between visualizations.\n"
   ]
  },
  {
   "cell_type": "markdown",
   "metadata": {},
   "source": [
    "<a id=\"summary1\"></a>\n",
    "# Summary\n",
    "\n",
    "---\n",
    "\n",
    "1. **Creating good questions is key**\n",
    "  - Without a thoughtful, targeted, and SMART question, it can be difficult to create an effective model\n",
    "2. **Use the Data Science Workflow to iteratively develop solutions**\n",
    "  - Frame: Develop a hypothesis-driven approach to your analysis.\n",
    "  - Prepare: Select, import, explore, and clean your data.\n",
    "  - Analyze: Structure, visualize, and complete your analysis.\n",
    "  - Interpret: Derive recommendations and business decisions from your data.\n",
    "  - Communicate: Present (edited) insights from your data to different audiences.\n",
    "3. **Informed by your past work, continue to refine your findings and models**\n",
    "  - While the Data Science Workflow looks linear, we consistently return to past steps to implement new findings"
   ]
  },
  {
   "cell_type": "markdown",
   "metadata": {},
   "source": [
    "<a id=\"ML\"></a>\n",
    "\n",
    "## Introduction: Machine Learning\n",
    "\n",
    "---\n"
   ]
  },
  {
   "cell_type": "markdown",
   "metadata": {},
   "source": [
    "## Examples of Machine Learning\n",
    "\n",
    "> **Note to Instructors**: This is a good section to provide your own work (or side-project) experience as well! These are just a couple of options:\n",
    "- [Google Quick Draw](https://quickdraw.withgoogle.com/)\n",
    "- [Deep Dream Generator](https://deepdreamgenerator.com/)\n",
    "- Add your own!"
   ]
  },
  {
   "cell_type": "markdown",
   "metadata": {},
   "source": [
    "<a id=\"common-ml-defs\"> </a>\n",
    "## Common Machine Learning Definitions\n",
    "\n",
    "There are two main categories of machine learning: supervised learning and unsupervised learning.\n",
    "\n",
    "**Supervised learning (a.k.a., “predictive modeling”):**  \n",
    "_Classification and regression_\n",
    "- Predicts an outcome based on input data.\n",
    "    - Example: Predict whether an email is Spam or Ham.\n",
    "- Attempts to generalize\n",
    "- Requires past data on the element we want to predict (the target)\n",
    "\n",
    "**Unsupervised learning:**  \n",
    "_Clustering and dimensionality reduction_\n",
    "- Extracts structure from data.\n",
    "    - Example: Segmenting grocery store shoppers into “clusters” that exhibit similar behaviors.\n",
    "- Attempts to represent\n",
    "- **Does not require** past data on the element we want to predict\n",
    "\n",
    "We may often combine both types of machine learning in a project to reduce the costs of collecting data by learning a better representation. This is referred to as transfer learning.\n",
    "\n",
    "Unsupervised learning tends to present more difficult problems because its goals are amorphous. Supervised learning has goals that are almost too clear and can lead people into the trap of optimizing metrics without considering business value."
   ]
  },
  {
   "cell_type": "markdown",
   "metadata": {},
   "source": [
    "<a id=\"supervised\"></a>\n",
    "### Supervised Learning\n",
    "\n",
    "Supervised learning tends to be the most frequent type of work that Data Scientists do and will be the main focus of this course. How does supervised learning work?\n",
    "\n",
    "1. We train a **machine learning model** (more on that shortly) using **labeled data** (the \"response\" label from earlier).\n",
    "    - The “machine learning model” learns some kind of relationship between the features and the response.\n",
    "\n",
    "2. We make predictions on **new data** for which the response is unknown.\n",
    "\n",
    "The primary goal of supervised learning is to build a model that “generalizes” — i.e., accurately predicts the **future** rather than the **past**!"
   ]
  },
  {
   "cell_type": "markdown",
   "metadata": {},
   "source": [
    "### Practice: Classification vs. Regression\n",
    "\n",
    "There are two categories of supervised learning:\n",
    "\n",
    "**Regression**\n",
    "- The outcome we are trying to predict is a continuous value.\n",
    "    - **Can you think of anything that we would want to predict like that?** \n",
    "\n",
    ">**Note to Instructors: Examples include price, blood pressure, temperature, etc.**\n",
    "\n",
    "**Classification**\n",
    "- The outcome we are trying to predict is categorical (i.e., it comes in one of a set number of classes).\n",
    "    - **Can you think of anything that we would want to predict like that?**\n",
    "\n",
    ">**Note to Instructors: Examples include Spam/Ham, cancer class of tissue sample, etc.**\n",
    "\n",
    "The type of supervised learning problem has nothing to do with the features; only the response matters!"
   ]
  },
  {
   "cell_type": "markdown",
   "metadata": {},
   "source": [
    "## Unsupervised Learning\n",
    "\n",
    "#### Common Types of Unsupervised Learning\n",
    "\n",
    "- **Clustering:** Groups “similar” data points together.\n",
    "- **Dimensionality Reduction:** Reduce the dimensionality of a data set by extracting features that capture most of the variance in the data."
   ]
  },
  {
   "cell_type": "markdown",
   "metadata": {},
   "source": [
    "**Steps for Clustering**\n",
    "\n",
    "Imagine that we had a bunch of coins that we wanted to automatically split into groups. An unsupervised learning technique would involve the following steps:\n",
    "\n",
    "1. Cluster the coins based on “similarity\" -- this could be through the size, the material, or language on the coins\n",
    "2. Inspect the grouping that the algorithm found.\n",
    "\n",
    "Hopefully this would put the coins into sets of related groups.\n",
    "\n",
    "**Steps for Dimensionality Reduction**\n",
    "\n",
    "Imagine that we had a huge amount of features about those coins -- country of origin, size, weight, mass, density, condition, chemical makeup, etc. Imagine further that we had thousands or (in some cases, millions) of different features. Not all of them are helpful though! Unsupervised learning can help us by grouping features together automatically. It would involve the following steps:\n",
    "\n",
    "1. The Unsupervised Learning technique groups or combines features that are similar or do the same thing into a smaller set, leading to a set of new features that is smaller in size.\n",
    "\n",
    "Hopefully the algorithm would recognize something like: \n",
    "\n",
    "$$\\dfrac {mass} {size} = density$$\n",
    "\n",
    "where density could take the place of two different features from before. \n",
    "\n",
    "Sometimes unsupervised learning is used as a “preprocessing” step for supervised learning. (Can you guess how?)\n",
    "\n",
    ">**Note to Instructors:** By providing a new set of featurese for a structured machine learning technique down the line**"
   ]
  },
  {
   "cell_type": "markdown",
   "metadata": {},
   "source": [
    "### Examples\n",
    "\n",
    "**Supervised Learning: Coin Classifier**\n",
    "\n",
    "- **Observations:** Coins.\n",
    "- **Features:** Size and mass.\n",
    "- **Response or Target Variable:** Hand-labeled coin type.\n",
    "\n",
    "- Train a machine learning model using labeled data.\n",
    "    - The model learns the relationship between the features and the coin type.\n",
    "\n",
    "- Make predictions on new data for which the response is unknown.\n",
    "    - Give the model a new coin, and it will predict the coin type automatically.\n",
    "    \n",
    "**Unsupervised Learning: Types of Customers at Bar**\n",
    "\n",
    "- **Observations:** Customers.\n",
    "- **Features:** Drink purchases, people they interact with, etc.\n",
    "- **Response or Target Variable:** There isn’t one -- instead, we put similar customers together."
   ]
  },
  {
   "cell_type": "markdown",
   "metadata": {},
   "source": [
    "<a id = 'algorithm'></a>\n",
    "\n",
    "## Algorithms\n",
    "\n",
    "Reguardless of whether its supervised or unsupervised, the underlying engine driving a machine learning model is an algorithm. These algorithms are used to help identify trends, represent said trends, and explain the overall variance of the data.   \n",
    "\n",
    "Let's say we are a real estate agent looking to price a house using only its square feet. We know there are other features that can highly influence this outcome, but we are just focusing on the square footage for now. We know that, as square footage increases, so does price. At this point you may be thinking that a simple algebra equation could be useful; one that helps us price the house by its square footage.  \n",
    "\n",
    "Recently we sold a house whose square footage was 2,500 for about \\$285,000. If we apply this information to a normal linear equation — $ Y = mx + b$ — we can create a simple _algorithm_ to help us price a house.\n",
    "\n",
    "$$285,000 = 2,500x + b$$\n",
    "\n",
    "$$ x = 114, b = 0 $$ \n",
    "\n",
    "_The Y intercept has been omitted for this example._\n",
    "\n",
    "#### Final Algorithm\n",
    "\n",
    "$$ Price = 114x $$\n",
    "\n",
    "This is an example of a model built with the intent of predicting price. The algorithm is simple and is built off of limited information. Typically, our models will be more complex, and we'll consider a greater amount of prior data to help us develop a final algorithm.  \n",
    "\n",
    "#### Algorithm Training \n",
    "\n",
    "In our example, we used previously known information to find our coefficients. This action is also known as \"Training.\" But let's make something clear:\n",
    "\n",
    "- Model building would be the task of constructing an actual algorithm.\n",
    "    - This is the linear model of $ Y = mx + b $.\n",
    "- Training involves figuring out the coefficient and the Y intercept the model uses for _our intended purpose_.  \n",
    "    - The coefficents uncovered via training were $m= 114$ and $b=0$.\n",
    "\n"
   ]
  },
  {
   "cell_type": "markdown",
   "metadata": {},
   "source": [
    "<a id=\"ml-activity\"></a>\n",
    "\n",
    "## Partner Activity\n",
    "\n",
    "Partner with somebody sitting next to you and tackle the following challenge! We'll spend a few minutes working together and then check in with one or two groups to see what we've come up with.\n",
    "\n",
    "You'll need the [Ames data set documentation](./extra-materials/ames_data_documentation.txt) and optionally the [Ames Data set Introduction PDF](./extra-materials/ames.pdf):\n",
    "\n",
    "**Your task**\n",
    "\n",
    "With a partner, sketch out the following:\n",
    "\n",
    "- What is a potential target in your data for a regression model?\n",
    "- What is a potential target in your data for a classification model?\n",
    "- Could unsupervised learning be used within this data? How so?\n",
    "\n",
    "Once you've done so:\n",
    "\n",
    "- Pick one of your targets and sketch out together what a data science workflow would look like for that question. Don't forget to identify what you think would be most important during each step:\n",
    "  - **Frame**: Develop a hypothesis-driven approach to your analysis. \n",
    "  - **Prepare**: Select, import, explore, and clean your data.\n",
    "  - **Analyze**: Structure, visualize, and complete your analysis.\n",
    "  - **Interpret**: Derive recommendations and business decisions from your data.\n",
    "  - **Communicate**: Present (edited) insights from your data to different audiences.\n",
    "  \n",
    "Feel free to hand wave any of the specifics -- this exercise is to get you approaching a problem the way a Data Scientist would. "
   ]
  },
  {
   "cell_type": "markdown",
   "metadata": {},
   "source": [
    "<a id=\"conclusion2\"></a>\n",
    "## Conclusion\n",
    "\n",
    "---\n",
    "\n",
    "Check to see if you can answer the following questions easily:\n",
    "\n",
    "- What is data science?\n",
    "- What is the data science workflow?\n",
    "- What is the difference between supervised and unsupervised learning?\n",
    "- What is the difference between regression and classification? \n",
    "- What is an algorithm?"
   ]
  }
 ],
 "metadata": {
  "celltoolbar": "Slideshow",
  "kernelspec": {
   "display_name": "Python 3",
   "language": "python",
   "name": "python3"
  },
  "language_info": {
   "codemirror_mode": {
    "name": "ipython",
    "version": 3
   },
   "file_extension": ".py",
   "mimetype": "text/x-python",
   "name": "python",
   "nbconvert_exporter": "python",
   "pygments_lexer": "ipython3",
   "version": "3.6.4"
  }
 },
 "nbformat": 4,
 "nbformat_minor": 2
}
